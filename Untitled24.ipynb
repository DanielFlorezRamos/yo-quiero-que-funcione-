{
  "nbformat": 4,
  "nbformat_minor": 0,
  "metadata": {
    "colab": {
      "provenance": [],
      "authorship_tag": "ABX9TyOcs72Ya0nHkA+PeJkIUKjd",
      "include_colab_link": true
    },
    "kernelspec": {
      "name": "python3",
      "display_name": "Python 3"
    },
    "language_info": {
      "name": "python"
    }
  },
  "cells": [
    {
      "cell_type": "markdown",
      "metadata": {
        "id": "view-in-github",
        "colab_type": "text"
      },
      "source": [
        "<a href=\"https://colab.research.google.com/github/DanielFlorezRamos/yo-quiero-que-funcione-/blob/main/Untitled24.ipynb\" target=\"_parent\"><img src=\"https://colab.research.google.com/assets/colab-badge.svg\" alt=\"Open In Colab\"/></a>"
      ]
    },
    {
      "cell_type": "code",
      "execution_count": null,
      "metadata": {
        "id": "4Guq0HdusRpW"
      },
      "outputs": [],
      "source": [
        "import random\n",
        "\n",
        "generate_board (size, options)\n",
        "show_board (board)\n",
        "hide_valve ()\n",
        "def genera\n",
        "\n",
        "def main()\n",
        "    print(\"hello\")\n",
        "\n",
        "if __name__ == \"__main__\":\n",
        ""
      ]
    },
    {
      "cell_type": "code",
      "source": [
        "def generate_board(size, options):\n",
        "  board = size * options\n",
        "  return board\n",
        "\n",
        "def show_board(board):\n",
        "  print(board)\n",
        "\n",
        "def hide_value(board):\n",
        "  secret_value = board / 2\n",
        "  board += 1\n",
        "  return secret_value, board\n",
        "\n",
        "def play_game(size, options):\n",
        "  board = generate_board(size, options)\n",
        "  show_board(board)\n",
        "  secret_value, board = hide_value(board)\n",
        "  show_board(board)\n",
        "\n",
        "def main():\n",
        "    print(\"Bienvenido\")\n",
        "    size = int(input(\"Tamaño: \"))\n",
        "    options = 5\n",
        "    play_game(size, options)\n",
        "\n",
        "if __name__ == \"__main__\":\n",
        "    main()\n",
        "\n",
        "\n"
      ],
      "metadata": {
        "colab": {
          "base_uri": "https://localhost:8080/"
        },
        "id": "VBTcWV_MxUZT",
        "outputId": "037e5fa2-2360-427e-a1c2-6632c66f5ad5"
      },
      "execution_count": 9,
      "outputs": [
        {
          "output_type": "stream",
          "name": "stdout",
          "text": [
            "Bienvenido\n",
            "Tamaño: 44\n",
            "220\n",
            "221\n"
          ]
        }
      ]
    },
    {
      "cell_type": "code",
      "source": [
        "import random\n",
        "import time\n",
        "from IPython.display import clear_output\n",
        "\n",
        "def generate_grid(rows, cols, values):\n",
        "  grid = []\n",
        "  for _ in range(rows):\n",
        "    row = []\n",
        "    for _ in range(cols):\n",
        "      value = random.choice(values)\n",
        "      row.append(value)\n",
        "    grid.append(row)\n",
        "  return grid\n",
        "\n",
        "def display_grid(grid):\n",
        "  for row in grid:\n",
        "    print(\" \".join(str(val) for val in row))\n",
        "\n",
        "def hide_value(grid, value):\n",
        "  hidden = False\n",
        "  for row in range(len(grid)):\n",
        "    for col in range(len(grid[0])):\n",
        "      if grid[row][col] == value and not hidden:\n",
        "        grid[row][col] = \"*\"\n",
        "        hidden = True\n",
        "\n",
        "def reveal_value(grid, value):\n",
        "  for row in range(len(grid)):\n",
        "    for col in range(len(grid[0])):\n",
        "      if grid[row][col] == \"*\":\n",
        "        grid[row][col] = value\n",
        "\n",
        "def get_grid_size():\n",
        "  rows = int(input(\"Ingrese el número de filas: \"))\n",
        "  cols = int(input(\"Ingrese el número de columnas: \"))\n",
        "  return rows, cols\n",
        "\n",
        "def play_game():\n",
        "  rows, cols = get_grid_size()\n",
        "  values = list(range(1, (rows * cols) // 2 + 1)) * 2\n",
        "  random.shuffle(values)\n",
        "\n",
        "  grid = generate_grid(rows, cols, values)\n",
        "\n",
        "  print(\"Memoria de Valores\\n\")\n",
        "  display_grid(grid)\n",
        "  time.sleep(5)\n",
        "  clear_output(wait=True)\n",
        "  hidden_value = random.choice(values)\n",
        "  hide_value(grid, hidden_value)\n",
        "\n",
        "  print(\"\\nEncuentra el valor oculto:\\n\")\n",
        "  display_grid(grid)\n",
        "  guess = int(input(\"\\nIngresa tu respuesta: \"))\n",
        "  reveal_value(grid, hidden_value)\n",
        "  if guess == hidden_value:\n",
        "    print(\"¡Correcto! Has encontrado el valor oculto.\")\n",
        "  else:\n",
        "    print(f\"Incorrecto. El valor oculto era {hidden_value}.\")\n",
        "\n",
        "def main():\n",
        "  while True:\n",
        "    play_game()\n",
        "    play_again = input(\"¿Quieres jugar de nuevo? (s/n): \")\n",
        "    if play_again.lower() != \"s\":\n",
        "      break\n",
        "\n",
        "if __name__ == \"__main__\":\n",
        "  main()\n"
      ],
      "metadata": {
        "colab": {
          "base_uri": "https://localhost:8080/"
        },
        "id": "Oz7ib8bk-D65",
        "outputId": "4a829493-0576-491b-bf7c-2b0795834803"
      },
      "execution_count": 15,
      "outputs": [
        {
          "name": "stdout",
          "output_type": "stream",
          "text": [
            "\n",
            "Encuentra el valor oculto:\n",
            "\n",
            "8 * 6 6\n",
            "6 1 1 1\n",
            "2 8 5 3\n",
            "1 7 6 3\n",
            "\n",
            "Ingresa tu respuesta: 1\n",
            "Incorrecto. El valor oculto era 7.\n",
            "¿Quieres jugar de nuevo? (s/n): n\n"
          ]
        }
      ]
    }
  ]
}