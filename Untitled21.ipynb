{
  "nbformat": 4,
  "nbformat_minor": 0,
  "metadata": {
    "colab": {
      "provenance": [],
      "authorship_tag": "ABX9TyP0wzrOSM8Gh8n8s+sNPPOa",
      "include_colab_link": true
    },
    "kernelspec": {
      "name": "python3",
      "display_name": "Python 3"
    },
    "language_info": {
      "name": "python"
    }
  },
  "cells": [
    {
      "cell_type": "markdown",
      "metadata": {
        "id": "view-in-github",
        "colab_type": "text"
      },
      "source": [
        "<a href=\"https://colab.research.google.com/github/DanielFlorezRamos/yo-quiero-que-funcione-/blob/main/Untitled21.ipynb\" target=\"_parent\"><img src=\"https://colab.research.google.com/assets/colab-badge.svg\" alt=\"Open In Colab\"/></a>"
      ]
    },
    {
      "cell_type": "code",
      "execution_count": null,
      "metadata": {
        "id": "f614tQVdqthW"
      },
      "outputs": [],
      "source": [
        "figurita = []\n",
        "rows = 3\n",
        "columns = 3\n",
        "counter = 1\n",
        "for i in range(rows):\n",
        "  temp = []\n",
        "  for j in range(columns):\n",
        "      temp.append(counter)\n",
        "      #temp.append(\" _ \")\n",
        "      counter += 1\n",
        "  figurita.append(temp)\n",
        "\n",
        "#print(figurita)\n",
        "\n",
        "for i in range(len(figurita)):\n",
        "  for j in range(len(figurita[1])):\n",
        "    print(figurita[i][j], end=\" \")\n",
        "  print()\n"
      ]
    },
    {
      "cell_type": "code",
      "source": [
        "figurita = []\n",
        "rows = 3\n",
        "columns = 3\n",
        "counter = 1\n",
        "for i in range(rows):\n",
        "  temp = []\n",
        "  for j in range(columns):\n",
        "      temp.append(counter)\n",
        "      #temp.append(\" _ \")\n",
        "      counter += 1\n",
        "  figurita.append(temp)\n",
        "\n",
        "#print(matrix)\n",
        "\n",
        "for i in range(len(matrix)):\n",
        "  for j in range(len(matrix[1])):\n",
        "    print(figurita[i][j], end=\" \")\n",
        "  print()\n"
      ],
      "metadata": {
        "id": "pjDIaEkA0w1B"
      },
      "execution_count": null,
      "outputs": []
    },
    {
      "cell_type": "code",
      "source": [
        "from datetime import datetime\n",
        "current_time = datetime.now()\n",
        "print(current_time)"
      ],
      "metadata": {
        "colab": {
          "base_uri": "https://localhost:8080/"
        },
        "id": "QzqkJWWo9aei",
        "outputId": "4174278e-5d6b-4574-8718-bd554d32e754"
      },
      "execution_count": 29,
      "outputs": [
        {
          "output_type": "stream",
          "name": "stdout",
          "text": [
            "2024-04-08 18:28:05.631196\n"
          ]
        }
      ]
    },
    {
      "cell_type": "code",
      "source": [
        "from random import choice, sample, randint\n",
        "\n",
        "random_n = [randint(-10, 10)for i in range(10)]\n",
        "print(choice(random_n))\n",
        "print(sample(random_n, 2))"
      ],
      "metadata": {
        "colab": {
          "base_uri": "https://localhost:8080/"
        },
        "id": "95EAeGHT-Txv",
        "outputId": "a2fdcdd4-ed79-4ccb-bb16-40e2e4614cf2"
      },
      "execution_count": 43,
      "outputs": [
        {
          "output_type": "stream",
          "name": "stdout",
          "text": [
            "3\n",
            "[3, -4]\n"
          ]
        }
      ]
    },
    {
      "cell_type": "code",
      "source": [
        "import random\n",
        "\n",
        "def crear_tablero(filas, columnas, num_minas):\n",
        "    tablero = [[' ' for _ in range(columnas)] for _ in range(filas)]\n",
        "    minas = set()\n",
        "    while len(minas) < num_minas:\n",
        "        fila = random.randint(0, filas - 1)\n",
        "        columna = random.randint(0, columnas - 1)\n",
        "        minas.add((fila, columna))\n",
        "        tablero[fila][columna] = '*'\n",
        "    return tablero\n",
        "\n",
        "def contar_minas_alrededor(tablero, fila, columna):\n",
        "    contador = 0\n",
        "    for i in range(-1, 2):\n",
        "        for j in range(-1, 2):\n",
        "            if 0 <= fila + i < len(tablero) and 0 <= columna + j < len(tablero[0]) and tablero[fila + i][columna + j] == '*':\n",
        "                contador += 1\n",
        "    return contador\n",
        "\n",
        "def mostrar_tablero(tablero):\n",
        "    for fila in tablero:\n",
        "        print(' '.join(fila))\n",
        "\n",
        "def jugar():\n",
        "    filas = 5\n",
        "    columnas = 5\n",
        "    num_minas = 5\n",
        "    tablero = crear_tablero(filas, columnas, num_minas)\n",
        "    mostrar_tablero(tablero)\n",
        "    while True:\n",
        "        fila_seleccionada = int(input('Selecciona una fila (0-4): '))\n",
        "        columna_seleccionada = int(input('Selecciona una columna (0-4): '))\n",
        "        if tablero[fila_seleccionada][columna_seleccionada] == '*':\n",
        "            print('¡Has perdido!')\n",
        "            break\n",
        "        else:\n",
        "            minas_alrededor = contar_minas_alrededor(tablero, fila_seleccionada, columna_seleccionada)\n",
        "            print('Número de minas alrededor:', minas_alrededor)\n",
        "            if minas_alrededor == 0:\n",
        "                print('¡Has ganado!')\n",
        "                break\n",
        "\n",
        "jugar()"
      ],
      "metadata": {
        "id": "idsLGkN1_iTF"
      },
      "execution_count": null,
      "outputs": []
    }
  ]
}