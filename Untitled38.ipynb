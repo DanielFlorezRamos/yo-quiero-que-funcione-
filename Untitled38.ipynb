{
  "nbformat": 4,
  "nbformat_minor": 0,
  "metadata": {
    "colab": {
      "provenance": [],
      "authorship_tag": "ABX9TyPQwsLmaJHbNXR6lidwIb6G",
      "include_colab_link": true
    },
    "kernelspec": {
      "name": "python3",
      "display_name": "Python 3"
    },
    "language_info": {
      "name": "python"
    }
  },
  "cells": [
    {
      "cell_type": "markdown",
      "metadata": {
        "id": "view-in-github",
        "colab_type": "text"
      },
      "source": [
        "<a href=\"https://colab.research.google.com/github/DanielFlorezRamos/yo-quiero-que-funcione-/blob/main/Untitled38.ipynb\" target=\"_parent\"><img src=\"https://colab.research.google.com/assets/colab-badge.svg\" alt=\"Open In Colab\"/></a>"
      ]
    },
    {
      "cell_type": "markdown",
      "source": [
        "Ejercicio CrunchieMunchies (codecademy)\n",
        "Python aplicado a la Ingeniería 14/04/2024 77\n",
        "* Preparando los datos.\n",
        "Crea un archivo llamado cereal.csv que contenga los siguientes datos:\n",
        "70, 120, 70, 50, 110 , 110, 110, 130, 90, 90, 120, 110,\n",
        "120, 110, 110, 110, 100, 110, 110, 110, 100, 110, 100,\n",
        "100, 110, 110, 100, 120, 120, 110, 100, 110, 100, 110,\n",
        "120, 120, 110, 110, 110, 140, 110, 100, 110, 100, 150,\n",
        "150, 160, 100, 120, 140, 90, 130, 120, 100, 50, 50,\n",
        "100, 100, 120, 100, 90, 110, 110, 80, 90, 90, 110, 110,\n",
        "90, 110, 140, 100, 110, 110, 100, 100, 110"
      ],
      "metadata": {
        "id": "GgBF4DFP-ay0"
      }
    },
    {
      "cell_type": "code",
      "source": [
        "import numpy as np\n",
        "\n",
        "calorie_stats = np.loadtxt('/content/sample_data/cereal.csv', delimiter=',')\n",
        "\n",
        "print(np.mean(calorie_stats))\n",
        "\n"
      ],
      "metadata": {
        "colab": {
          "base_uri": "https://localhost:8080/"
        },
        "id": "mKdbmHOvCcPi",
        "outputId": "61e44084-c68d-4284-b769-90dde46347c9"
      },
      "execution_count": 20,
      "outputs": [
        {
          "output_type": "stream",
          "name": "stdout",
          "text": [
            "106.88311688311688\n"
          ]
        }
      ]
    },
    {
      "cell_type": "markdown",
      "source": [],
      "metadata": {
        "id": "FZPT2FQUC0xx"
      }
    },
    {
      "cell_type": "code",
      "source": [
        "# Datos de calorías de diferentes marcas de cereal\n",
        "calorias = [\n",
        "    70, 120, 70, 50, 110, 110, 110, 130, 90, 90, 120, 110,\n",
        "    120, 110, 110, 110, 100, 110, 110, 110, 100, 110, 100,\n",
        "    100, 110, 110, 100, 120, 120, 110, 100, 110, 100, 110,\n",
        "    120, 120, 110, 110, 110, 140, 110, 100, 110, 100, 150,\n",
        "    150, 160, 100, 120, 140, 90, 130, 120, 100, 50, 50,\n",
        "    100, 100, 120, 100, 90, 110, 110, 80, 90, 90, 110, 110,\n",
        "    90, 110, 140, 100, 110, 110, 100, 100, 110\n",
        "]\n",
        "\n",
        "# Guardar los datos en un archivo CSV\n",
        "np.savetxt(\"cereal.csv\", calorias, delimiter=\",\", fmt=\"%d\")\n",
        "\n",
        "# Cargar los datos desde el archivo CSV\n",
        "calorie_stats = np.loadtxt(\"cereal.csv\", delimiter=\",\")\n",
        "\n",
        "# Calcular el promedio de calorías\n",
        "average_calories = np.mean(calorie_stats)\n",
        "print(f\"El promedio de calorías es: {average_calories}\")\n",
        "\n",
        "# Organizar los datos y calcular la mediana\n",
        "calorie_stats_sorted = np.sort(calorie_stats)\n",
        "median_calories = np.median(calorie_stats_sorted)\n",
        "print(f\"Los datos organizados son: {calorie_stats_sorted}\")\n",
        "print(f\"La mediana de calorías es: {median_calories}\")\n",
        "\n",
        "# Comparar la mediana con la media\n",
        "print(f\"Comparación entre la mediana y la media: {median_calories} vs {average_calories}\")\n",
        "\n",
        "# Encontrar el percentil más bajo que es mayor a 60 calorías\n",
        "for i in range(1, 101):\n",
        "    if np.percentile(calorie_stats, i) > 60:\n",
        "        nth_percentile = np.percentile(calorie_stats, i)\n",
        "        print(f\"El percentil más bajo mayor a 60 calorías es el {i}th y su valor es: {nth_percentile}\")\n",
        "        break\n",
        "\n",
        "# Calcular el porcentaje de cereales con más de 60 calorías\n",
        "more_calories = np.mean(calorie_stats > 60)\n",
        "print(f\"El porcentaje de cereales con más de 60 calorías es: {more_calories * 100}%\")\n",
        "\n",
        "# Calcular la desviación estándar\n",
        "calorie_std = np.std(calorie_stats)\n",
        "print(f\"La desviación estándar de las calorías es: {calorie_std}\")\n",
        "\n",
        "# Conclusión sobre la desviación estándar\n",
        "conclusion = \"Una desviación estándar baja indica que la mayoría de los cereales tienen un contenido calórico similar, mientras que una desviación estándar alta indica una mayor variabilidad en el contenido calórico entre las diferentes marcas.\"\n",
        "print(conclusion)"
      ],
      "metadata": {
        "id": "IdvdI3T2C1cq"
      },
      "execution_count": null,
      "outputs": []
    }
  ]
}