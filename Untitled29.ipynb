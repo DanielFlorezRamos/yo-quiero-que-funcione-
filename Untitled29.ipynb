{
  "nbformat": 4,
  "nbformat_minor": 0,
  "metadata": {
    "colab": {
      "provenance": [],
      "authorship_tag": "ABX9TyOPk9Ja5YHnnA9UytYkvxKo",
      "include_colab_link": true
    },
    "kernelspec": {
      "name": "python3",
      "display_name": "Python 3"
    },
    "language_info": {
      "name": "python"
    }
  },
  "cells": [
    {
      "cell_type": "markdown",
      "metadata": {
        "id": "view-in-github",
        "colab_type": "text"
      },
      "source": [
        "<a href=\"https://colab.research.google.com/github/DanielFlorezRamos/yo-quiero-que-funcione-/blob/main/Untitled29.ipynb\" target=\"_parent\"><img src=\"https://colab.research.google.com/assets/colab-badge.svg\" alt=\"Open In Colab\"/></a>"
      ]
    },
    {
      "cell_type": "code",
      "execution_count": 5,
      "metadata": {
        "colab": {
          "base_uri": "https://localhost:8080/"
        },
        "id": "aZN7jQGU-0OL",
        "outputId": "0cc5b2ab-616e-4549-df5a-e1d518a9581b"
      },
      "outputs": [
        {
          "name": "stdout",
          "output_type": "stream",
          "text": [
            "\n",
            "Encuentra el valor oculto:\n",
            "\n",
            "3 3 1 3 3\n",
            "* 1 1 1 b\n",
            "c c 2 3 2\n",
            "a 2 c 1 1\n",
            "2 1 a 3 1\n",
            "\n",
            "Ingresa tu respuesta: c\n",
            "¡Correcto! Has encontrado el valor oculto.\n",
            "¿Quieres jugar de nuevo? (s/n): n\n"
          ]
        }
      ],
      "source": [
        "import random\n",
        "import time\n",
        "from IPython.display import clear_output\n",
        "\n",
        "\n",
        "def get_time_limit(n):\n",
        "\n",
        "    return max(3, 3 + 0.5 * (n - 3))\n",
        "\n",
        "def generate_grid(rows, cols, values):\n",
        "    grid = []\n",
        "    for _ in range(rows):\n",
        "        row = []\n",
        "        for _ in range(cols):\n",
        "            value = random.choice(values)\n",
        "            row.append(value)\n",
        "        grid.append(row)\n",
        "    return grid\n",
        "\n",
        "\n",
        "def display_grid(grid):\n",
        "    for row in grid:\n",
        "        print(\" \".join(str(val) for val in row))\n",
        "\n",
        "\n",
        "def hide_value(grid, value):\n",
        "    hidden = False\n",
        "    for row in range(len(grid)):\n",
        "        for col in range(len(grid[0])):\n",
        "            if grid[row][col] == value and not hidden:\n",
        "                grid[row][col] = \"*\"\n",
        "                hidden = True\n",
        "\n",
        "\n",
        "def reveal_value(grid, value):\n",
        "    for row in range(len(grid)):\n",
        "        for col in range(len(grid[0])):\n",
        "            if grid[row][col] == \"*\":\n",
        "                grid[row][col] = value\n",
        "\n",
        "\n",
        "def get_grid_size():\n",
        "    rows = int(input(\"Ingrese el número de filas: \"))\n",
        "    cols = int(input(\"Ingrese el número de columnas: \"))\n",
        "    return rows, cols\n",
        "\n",
        "\n",
        "def play_game():\n",
        "    rows, cols = get_grid_size()\n",
        "\n",
        "    values = [\"a\", \"b\", \"c\", 1, 2, 3]\n",
        "\n",
        "    random.shuffle(values)\n",
        "\n",
        "    grid = generate_grid(rows, cols, values)\n",
        "\n",
        "    print(\"Memoria de Valores\\n\")\n",
        "    display_grid(grid)\n",
        "    time_limit = get_time_limit(len(values))\n",
        "    time.sleep(time_limit)\n",
        "    clear_output(wait=True)\n",
        "\n",
        "    hidden_value = random.choice(values)\n",
        "    hide_value(grid, hidden_value)\n",
        "\n",
        "    print(\"\\nEncuentra el valor oculto:\\n\")\n",
        "    display_grid(grid)\n",
        "    guess = input(\"\\nIngresa tu respuesta: \")\n",
        "    reveal_value(grid, hidden_value)\n",
        "    if guess == hidden_value:\n",
        "        print(\"¡Correcto! Has encontrado el valor oculto.\")\n",
        "    else:\n",
        "        print(f\"Incorrecto. El valor oculto era {hidden_value}.\")\n",
        "\n",
        "\n",
        "def main():\n",
        "    while True:\n",
        "        play_game()\n",
        "        play_again = input(\"¿Quieres jugar de nuevo? (s/n): \")\n",
        "        if play_again.lower() != \"s\":\n",
        "            break\n",
        "\n",
        "\n",
        "if __name__ == \"__main__\":\n",
        "    main()\n",
        "\n"
      ]
    }
  ]
}