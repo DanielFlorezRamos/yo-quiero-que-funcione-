{
  "nbformat": 4,
  "nbformat_minor": 0,
  "metadata": {
    "colab": {
      "provenance": [],
      "authorship_tag": "ABX9TyPvNggJQd4CJVheaieGT8ua",
      "include_colab_link": true
    },
    "kernelspec": {
      "name": "python3",
      "display_name": "Python 3"
    },
    "language_info": {
      "name": "python"
    }
  },
  "cells": [
    {
      "cell_type": "markdown",
      "metadata": {
        "id": "view-in-github",
        "colab_type": "text"
      },
      "source": [
        "<a href=\"https://colab.research.google.com/github/DanielFlorezRamos/yo-quiero-que-funcione-/blob/main/Untitled23.ipynb\" target=\"_parent\"><img src=\"https://colab.research.google.com/assets/colab-badge.svg\" alt=\"Open In Colab\"/></a>"
      ]
    },
    {
      "cell_type": "code",
      "execution_count": 9,
      "metadata": {
        "colab": {
          "base_uri": "https://localhost:8080/"
        },
        "id": "uIE4ShnyINet",
        "outputId": "b59b3b8a-eeaa-45cd-9078-c6057a394675"
      },
      "outputs": [
        {
          "output_type": "stream",
          "name": "stdout",
          "text": [
            "El viento trata de guiarte\n",
            "Cuál agua déjate llevarte\n",
            "Vamos\n",
            "Despierta de una vez\n",
            "Hazlo, anímate\n",
            "\n",
            "Transcribe todos tus deseos\n",
            "Antes de que el mal te afecte hoy a ti\n",
            "Oh oh oh oh\n",
            "Libérate\n",
            "Y haz fluir sin más toda tu sangre\n",
            "\n",
            "Reconoce bien una emergencia\n",
            "Ve con prisa si es una urgencia\n",
            "Solo céntrate y podrás ver más allá\n",
            "De ese vínculo inexistente\n",
            "\n",
            "Si en pleno viaje tú sientes\n",
            "Dolor y angustia frecuente\n",
            "Soy quien te ayudaré\n",
            "\n",
            "Y aunque el mundo llegue a su fin\n",
            "Debes cumplir tus promesas\n",
            "\n",
            "Ya se tiñó todo nuestro mundo de un color\n",
            "Tú espada blande hoy\n",
            "Tienes todo el control\n",
            "Serás aún mejor si superas todo el temor\n",
            "Yo sé que muy fuerte vas a ser\n",
            "We can catch the game\n",
            "\n",
            "El viento trata de guiarte\n",
            "La culpa busca lastimarte\n",
            "Sigue!!!\n",
            "Jamás te rindas que\n",
            "Ahora\n",
            "Tu fuerza se eleva, se eleva, se eleva\n",
            "\n",
            "La realidad podrá ser cruel\n",
            "Si pierdes tan solo prueba una y otra vez\n",
            "Tu destino solo Dios conoce bien\n",
            "\n",
            "Si iluminas todo aquí\n",
            "Acabarás con las sombras\n",
            "\n",
            "Ya se tiñó todo nuestro mundo de un color\n",
            "Tú espada blande hoy\n",
            "Tienes todo el control\n",
            "Serás aún mejor si superas todo el temor\n",
            "Yo sé que muy fuerte vas a ser\n",
            "We can catch the game\n",
            "\n",
            "Ya se tiñó todo nuestro mundo de un color\n",
            "Tú espada blande hoy\n",
            "Tienes todo el control\n",
            "Serás aún mejor si superas todo el temor\n",
            "Yo sé que muy fuerte vas a ser\n",
            "Cambia tú manera ya de ver\n",
            "Y tú futuro cambia de una vez\n",
            "We can catch the game\n"
          ]
        }
      ],
      "source": [
        "path = '/content/sample_data/omnipotensia '\n",
        "with open(path) as file_info:\n",
        "  message = file_info.read()\n",
        "print(message)"
      ]
    },
    {
      "cell_type": "code",
      "source": [
        "name = 'daniel florez ramos '\n",
        "path = '/content/sample_data/omnipotensia '\n",
        "with open()\n"
      ],
      "metadata": {
        "id": "vOEoXyLUN18x"
      },
      "execution_count": null,
      "outputs": []
    },
    {
      "cell_type": "code",
      "source": [
        "import random\n",
        "\n",
        "def save_randon():\n",
        "  n = random_randint(0,10)\n",
        "  with open()\n"
      ],
      "metadata": {
        "id": "CRg_-dK9TNwS"
      },
      "execution_count": null,
      "outputs": []
    },
    {
      "cell_type": "code",
      "source": [
        "\n",
        "\n",
        "def save_randon():\n",
        "  n = random.randint(0,10)\n",
        "  path = '/content/sample_data/omnipotensia '\n",
        "  with open(path, 'a') as file_info:\n",
        "    file_info.write()\n"
      ],
      "metadata": {
        "id": "fkskCpMWTRGS"
      },
      "execution_count": 13,
      "outputs": []
    }
  ]
}