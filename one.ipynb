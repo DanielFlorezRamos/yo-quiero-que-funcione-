{
  "nbformat": 4,
  "nbformat_minor": 0,
  "metadata": {
    "colab": {
      "provenance": [],
      "authorship_tag": "ABX9TyO3ekxSbjnBDRf+/GNdVSgK"
    },
    "kernelspec": {
      "name": "python3",
      "display_name": "Python 3"
    },
    "language_info": {
      "name": "python"
    }
  },
  "cells": [
    {
      "cell_type": "code",
      "execution_count": null,
      "metadata": {
        "id": "rt238qZ8IX2T"
      },
      "outputs": [],
      "source": [
        "# expresiones booleanas\n",
        "\n",
        "print(1 == 0)\n",
        "a = 3\n",
        "b = 5\n",
        " print (a == b)\n",
        " print (a !=b)\n",
        " print (a)\n",
        " print ()\n",
        "\n"
      ]
    },
    {
      "cell_type": "markdown",
      "source": [
        "# operadores booleanos\n",
        "\n",
        "\n"
      ],
      "metadata": {
        "id": "5KTMoj4iLXi5"
      }
    }
  ]
}