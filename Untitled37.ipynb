{
  "nbformat": 4,
  "nbformat_minor": 0,
  "metadata": {
    "colab": {
      "provenance": [],
      "authorship_tag": "ABX9TyN2sA1IdllRGByR9IfqX7p/",
      "include_colab_link": true
    },
    "kernelspec": {
      "name": "python3",
      "display_name": "Python 3"
    },
    "language_info": {
      "name": "python"
    }
  },
  "cells": [
    {
      "cell_type": "markdown",
      "metadata": {
        "id": "view-in-github",
        "colab_type": "text"
      },
      "source": [
        "<a href=\"https://colab.research.google.com/github/DanielFlorezRamos/yo-quiero-que-funcione-/blob/main/Untitled37.ipynb\" target=\"_parent\"><img src=\"https://colab.research.google.com/assets/colab-badge.svg\" alt=\"Open In Colab\"/></a>"
      ]
    },
    {
      "cell_type": "code",
      "execution_count": 5,
      "metadata": {
        "colab": {
          "base_uri": "https://localhost:8080/"
        },
        "id": "8v--7Vuuwheo",
        "outputId": "4aec0b21-1d16-4a01-e428-19e116625e7b"
      },
      "outputs": [
        {
          "output_type": "stream",
          "name": "stdout",
          "text": [
            "0.4444444444444444\n",
            "[0.33333333 0.33333333 0.66666667]\n",
            "[0.66666667 0.         0.66666667]\n"
          ]
        }
      ],
      "source": [
        "import numpy as np\n",
        "#estore_one = np.array(2, 5, 8, 3, 4, 10, 15, 5)\n",
        "#estore_two = np.array(3, 17, 18, )\n",
        "#estore_tree = np.array()\n",
        "\n",
        "#print(np.mean(estore_one))\n",
        "#print(np.mean(estore_two))\n",
        "#print(np.mean(estore_tree))\n",
        "\n",
        "ring_toss = np.array([[1, 0, 0],\n",
        "                      [0, 0, 1],\n",
        "                      [1, 0, 1]])\n",
        "\n",
        "print(np.mean(ring_toss))\n",
        "print(np.mean(ring_toss, axis=1))\n",
        "print(np.mean(ring_toss, axis=0))"
      ]
    },
    {
      "cell_type": "code",
      "source": [
        "alllergy_trials = np.array([[6, 1, 3, 8, 2],\n",
        "                            [2, 6, 3, 9, 8],\n",
        "                            [5, 2, 6, 9, 9]])\n",
        "\n",
        "print(np.mean(alllergy_trials))\n",
        "print(np.mean(alllergy_trials, axis=1))\n",
        "print(np.mean(alllergy_trials, axis=0))"
      ],
      "metadata": {
        "colab": {
          "base_uri": "https://localhost:8080/"
        },
        "id": "jBwEZfFP1vM5",
        "outputId": "38697ea2-ed75-45b6-dbcf-03e8265b1f78"
      },
      "execution_count": 7,
      "outputs": [
        {
          "output_type": "stream",
          "name": "stdout",
          "text": [
            "5.266666666666667\n",
            "[4.  5.6 6.2]\n",
            "[4.33333333 3.         4.         8.66666667 6.33333333]\n"
          ]
        }
      ]
    },
    {
      "cell_type": "code",
      "source": [
        "import numpy as np\n",
        "\n",
        "while open(/content/sample_data/cereal.csv)\n",
        "\n",
        "print(np.mean(cereal_csv))\n",
        "print(np.mean(cereal_csv, axis=1))\n",
        "print(np.mean(cereal_csv, axis=0))"
      ],
      "metadata": {
        "colab": {
          "base_uri": "https://localhost:8080/",
          "height": 106
        },
        "id": "qvgbYVmI4eMi",
        "outputId": "1a957157-e319-4578-cee4-870af2fea480"
      },
      "execution_count": 11,
      "outputs": [
        {
          "output_type": "error",
          "ename": "SyntaxError",
          "evalue": "invalid syntax (<ipython-input-11-850ec9c09769>, line 3)",
          "traceback": [
            "\u001b[0;36m  File \u001b[0;32m\"<ipython-input-11-850ec9c09769>\"\u001b[0;36m, line \u001b[0;32m3\u001b[0m\n\u001b[0;31m    cereal_csv = np.array[/content/sample_data/cereal.csv]\u001b[0m\n\u001b[0m                          ^\u001b[0m\n\u001b[0;31mSyntaxError\u001b[0m\u001b[0;31m:\u001b[0m invalid syntax\n"
          ]
        }
      ]
    }
  ]
}